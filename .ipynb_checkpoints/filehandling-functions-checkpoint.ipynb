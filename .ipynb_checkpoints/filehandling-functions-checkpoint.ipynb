{
 "cells": [
  {
   "cell_type": "markdown",
   "id": "1f6933d4-6f3f-41c4-904b-4be50592a946",
   "metadata": {},
   "source": [
    "file name                   type of file\n",
    "text                         .text\n",
    "word                          .doc or docx\n",
    "pdf                            .pdf\n",
    "csv(excel)                      .csv\n",
    "excel                           .xlsx\n",
    "json                            .json\n",
    "------------------------------------\n",
    "xml                           .xml\n",
    "parquet                         .delta\n",
    "delta                            .delta(DE)"
   ]
  },
  {
   "cell_type": "code",
   "execution_count": null,
   "id": "e141fd07-5f48-4790-b7d2-75762dddedb4",
   "metadata": {},
   "outputs": [],
   "source": [
    "TASK:\n",
    "GET PACKAGE NAMES TO READ EACH FILE"
   ]
  },
  {
   "cell_type": "markdown",
   "id": "9a2e1315-1aed-46f9-8cbd-7fa28405070d",
   "metadata": {},
   "source": [
    "**hoe to read text file**"
   ]
  },
  {
   "cell_type": "code",
   "execution_count": null,
   "id": "2091d775-a428-45e6-9778-027691749ac8",
   "metadata": {},
   "outputs": [],
   "source": [
    "-in order to read we need three points\n",
    "-where is file located\n",
    "-directory or folder name\n",
    "-what is the filename\n",
    "-what is the extension of the file"
   ]
  },
  {
   "cell_type": "code",
   "execution_count": 1,
   "id": "44d6483a-cf3a-4756-bda4-1172817c2c01",
   "metadata": {},
   "outputs": [
    {
     "name": "stdout",
     "output_type": "stream",
     "text": [
      "30\n"
     ]
    }
   ],
   "source": [
    "a=10\n",
    "b=20\n",
    "c=a+b\n",
    "print(c)"
   ]
  },
  {
   "cell_type": "code",
   "execution_count": null,
   "id": "faaf49bf-29bd-4c80-966f-566b16500a12",
   "metadata": {},
   "outputs": [],
   "source": []
  }
 ],
 "metadata": {
  "kernelspec": {
   "display_name": "Python 3 (ipykernel)",
   "language": "python",
   "name": "python3"
  },
  "language_info": {
   "codemirror_mode": {
    "name": "ipython",
    "version": 3
   },
   "file_extension": ".py",
   "mimetype": "text/x-python",
   "name": "python",
   "nbconvert_exporter": "python",
   "pygments_lexer": "ipython3",
   "version": "3.12.4"
  }
 },
 "nbformat": 4,
 "nbformat_minor": 5
}
