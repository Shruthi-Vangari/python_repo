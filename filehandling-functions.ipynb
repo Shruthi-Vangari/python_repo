{
 "cells": [
  {
   "cell_type": "markdown",
   "id": "1f6933d4-6f3f-41c4-904b-4be50592a946",
   "metadata": {},
   "source": [
    "file name                   type of file\n",
    "text                         .text\n",
    "word                          .doc or docx\n",
    "pdf                            .pdf\n",
    "csv(excel)                      .csv\n",
    "excel                           .xlsx\n",
    "json                            .json\n",
    "------------------------------------\n",
    "xml                           .xml\n",
    "parquet                         .delta\n",
    "delta                            .delta(DE)"
   ]
  },
  {
   "cell_type": "code",
   "execution_count": null,
   "id": "e141fd07-5f48-4790-b7d2-75762dddedb4",
   "metadata": {},
   "outputs": [],
   "source": [
    "TASK:\n",
    "GET PACKAGE NAMES TO READ EACH FILE"
   ]
  },
  {
   "cell_type": "markdown",
   "id": "9a2e1315-1aed-46f9-8cbd-7fa28405070d",
   "metadata": {},
   "source": [
    "**hoe to read text file**"
   ]
  },
  {
   "cell_type": "code",
   "execution_count": null,
   "id": "2091d775-a428-45e6-9778-027691749ac8",
   "metadata": {},
   "outputs": [],
   "source": [
    "-in order to read we need three points\n",
    "-where is file located\n",
    "-directory or folder name\n",
    "-what is the filename\n",
    "-what is the extension of the file"
   ]
  }
 ],
 "metadata": {
  "kernelspec": {
   "display_name": "",
   "name": ""
  },
  "language_info": {
   "name": ""
  }
 },
 "nbformat": 4,
 "nbformat_minor": 5
}
