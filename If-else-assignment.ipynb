{
 "cells": [
  {
   "cell_type": "code",
   "execution_count": null,
   "id": "3a73d60c-150b-457f-ad96-2e9d7f861a0c",
   "metadata": {},
   "outputs": [],
   "source": [
    "#### Problem-1(Use conditional statements)\n",
    "\n",
    "Write a program that asks the user to enter a length in centimetres. If the user enters\n",
    "a negative length, the program should tell the user that the entry is invalid. Otherwise,\n",
    "the program should convert the length to inches and print out the result. There are\n",
    "2.54 centimetres in an inch."
   ]
  },
  {
   "cell_type": "code",
   "execution_count": 4,
   "id": "5b3bb033-79eb-4a81-ab29-313371fdac92",
   "metadata": {},
   "outputs": [
    {
     "name": "stdin",
     "output_type": "stream",
     "text": [
      "enter length in centimeters: 2\n"
     ]
    },
    {
     "name": "stdout",
     "output_type": "stream",
     "text": [
      "result=0.7874015748\n"
     ]
    }
   ],
   "source": [
    "length=eval(input(\"enter length in centimeters:\"))\n",
    "if length<0:\n",
    "    print(\"entry is invalid\")\n",
    "else:\n",
    "    inches=length*0.3937007874\n",
    "    print(f\"result={inches}\")"
   ]
  },
  {
   "cell_type": "code",
   "execution_count": null,
   "id": "287f3bc0-b384-4852-9f8a-0df78b1a30ed",
   "metadata": {},
   "outputs": [],
   "source": [
    "#### Problem-2(Use conditional statements)\n",
    "Ask the user for a temperature. Then ask them what units, Celsius or Fahrenheit, the\n",
    "temperature is in. Your program should convert the temperature to the other unit. The\n",
    "conversions are F = 9 5 C +32 and C = 5 9 (F − 32)."
   ]
  },
  {
   "cell_type": "code",
   "execution_count": 22,
   "id": "ce2ee819-4129-4c6a-8cfe-cffa5f53b4ea",
   "metadata": {},
   "outputs": [
    {
     "name": "stdin",
     "output_type": "stream",
     "text": [
      "enter temperature: 54\n",
      "enter in what unit the temperature in: Celsius\n"
     ]
    },
    {
     "name": "stdout",
     "output_type": "stream",
     "text": [
      "temperature from Celsius to Fahrenheit:154.8\n"
     ]
    }
   ],
   "source": [
    "temp=eval(input(\"enter temperature:\"))\n",
    "units=input(\"enter in what unit the temperature in:\")\n",
    "if units==\"Fahrenheit\":\n",
    "    Celsius=5/9*(temp-32)\n",
    "    print(f\"temperature from Fahrenheit to Celsius:{Celsius}\")\n",
    "elif units=='Celsius':\n",
    "    Fahrenheit=9/5*(temp+32)\n",
    "    print(f\"temperature from Celsius to Fahrenheit:{Fahrenheit}\")"
   ]
  },
  {
   "cell_type": "code",
   "execution_count": null,
   "id": "eb76f834-d73f-4b31-b646-a2dd3224a64c",
   "metadata": {},
   "outputs": [],
   "source": [
    "#### Problem-3(Use conditional statements)\n",
    "Ask the user to enter a temperature in Celsius. The program should print a\n",
    "message based on the temperature:\n",
    "• If the temperature is less than -273.15, print that the temperature is invalid because it is\n",
    "below absolute zero.\n",
    "• If it is exactly -273.15, print that the temperature is absolute 0.\n",
    "• If the temperature is between -273.15 and 0, print that the temperature is below\n",
    "freezing. • If it is 0, print that the temperature is at the freezing point.\n",
    "• If it is between 0 and 100, print that the temperature is in the normal\n",
    "range. • If it is 100, print that the temperature is at the boiling point.\n",
    "• If it is above 100, print that the temperature is above the boiling point."
   ]
  },
  {
   "cell_type": "code",
   "execution_count": 37,
   "id": "5315d593-9601-4fe7-aa1f-5ff24d64f980",
   "metadata": {},
   "outputs": [
    {
     "name": "stdin",
     "output_type": "stream",
     "text": [
      "Enter temperature in Celsius:  -183.7\n"
     ]
    },
    {
     "name": "stdout",
     "output_type": "stream",
     "text": [
      "The temperature is below freezing.\n"
     ]
    }
   ],
   "source": [
    "# Ask the user to enter a temperature in Celsius\n",
    "temperature = eval(input(\"Enter temperature in Celsius: \"))\n",
    "\n",
    "# Determine the message based on the temperature range\n",
    "if temperature < -273.15:\n",
    "    print(\"The temperature is invalid because it is below absolute zero.\")\n",
    "elif temperature == -273.15:\n",
    "    print(\"The temperature is absolute 0.\")\n",
    "elif temperature >-273.15 and temperature <0:\n",
    "    print(\"The temperature is below freezing.\")\n",
    "elif temperature == 0:\n",
    "    print(\"The temperature is at the freezing point.\")\n",
    "elif temperature<100 and temperature>0:\n",
    "    print(\"The temperature is in the normal range.\")\n",
    "elif temperature == 100:\n",
    "    print(\"The temperature is at the boiling point.\")\n",
    "elif temperature >100:\n",
    "    print(\"The temperature is above the boiling point.\")\n"
   ]
  },
  {
   "cell_type": "code",
   "execution_count": null,
   "id": "2b60ba6b-ab23-4b9a-b1e1-e401d208a37b",
   "metadata": {},
   "outputs": [],
   "source": [
    "#### Problem-4(Use conditional statements)\n",
    "Write a program that asks the user how many credits they have taken. If they have taken 23 or\n",
    "less, print that the student is a freshman. If they have taken between 24 and 53, print that they\n",
    "are asophomore. The range for juniors is 54 to 83, and for seniors it is 84 and over."
   ]
  },
  {
   "cell_type": "code",
   "execution_count": 44,
   "id": "3bdc961a-1d99-4c6a-8427-3491882e20c9",
   "metadata": {},
   "outputs": [
    {
     "name": "stdin",
     "output_type": "stream",
     "text": [
      "enter how many credits takes: 54\n"
     ]
    },
    {
     "name": "stdout",
     "output_type": "stream",
     "text": [
      "juniors\n"
     ]
    }
   ],
   "source": [
    "credits=eval(input(\"enter how many credits takes:\"))\n",
    "if credits <=23:\n",
    "    print(\"student is a freshman\")\n",
    "elif credits <53:\n",
    "    print(\"asophomore\")\n",
    "elif credits <=83:\n",
    "    print(\"juniors\")\n",
    "else:\n",
    "    print(\"seniors\")"
   ]
  },
  {
   "cell_type": "code",
   "execution_count": null,
   "id": "608dcbe5-9e09-4282-8c80-5917f6e0d43e",
   "metadata": {},
   "outputs": [],
   "source": [
    "#### Problem-5(Use conditional statements)\n",
    "Generate a random number between 1 and 10. Ask the user to guess the number and print a\n",
    "message based on whether they get it right or not."
   ]
  },
  {
   "cell_type": "code",
   "execution_count": 48,
   "id": "1ba0102f-673f-4c64-927e-8b0f3cfe7a83",
   "metadata": {},
   "outputs": [
    {
     "name": "stdin",
     "output_type": "stream",
     "text": [
      "enter a guessing number: 1\n"
     ]
    },
    {
     "name": "stdout",
     "output_type": "stream",
     "text": [
      "congratulations shruthi!!!!!, your guessed number is correct:1\n"
     ]
    }
   ],
   "source": [
    "import random\n",
    "random_number=random.randint(1,10)\n",
    "guess_number=eval(input(\"enter a guessing number:\"))\n",
    "if random_number==guess_number:\n",
    "    print(f\"congratulations shruthi!!!!!, your guessed number is correct:{guess_number}\")\n",
    "else:\n",
    "    print(f\"sorry!!! your guessed number is not correct:{guess_number}\")"
   ]
  },
  {
   "cell_type": "code",
   "execution_count": null,
   "id": "5f67e718-35f2-4aa1-900b-b6d77ae121d2",
   "metadata": {},
   "outputs": [],
   "source": [
    "#### Problem-6(Use conditional statements)\n",
    "A store charges $12 per item if you buy less than 10 items. If you buy between 10\n",
    "and 99 items, the cost is $10 per item. If you buy 100 or more items, the cost is $7\n",
    "per item. Write a program that asks the user how many items they are buying and\n",
    "prints the total cost."
   ]
  },
  {
   "cell_type": "code",
   "execution_count": 55,
   "id": "9de97c8f-6a91-46d3-b2fc-a97c69acf977",
   "metadata": {},
   "outputs": [
    {
     "name": "stdin",
     "output_type": "stream",
     "text": [
      "enter number of items: 98\n"
     ]
    },
    {
     "name": "stdout",
     "output_type": "stream",
     "text": [
      "980\n"
     ]
    }
   ],
   "source": [
    "items=eval(input(\"enter number of items:\"))\n",
    "if items<10:\n",
    "    cost=items*12\n",
    "elif items<=99:\n",
    "    cost=items*10\n",
    "elif items>=100:\n",
    "    cost=items*7\n",
    "print(cost)"
   ]
  },
  {
   "cell_type": "code",
   "execution_count": null,
   "id": "f120df86-ae61-4ef7-8962-c93af8096707",
   "metadata": {},
   "outputs": [],
   "source": [
    "#### Problem-7(Use conditional statements)\n",
    "Write a program that asks the user for two numbers and prints Close if the\n",
    "numbers are within .001of each other and Not close otherwise."
   ]
  },
  {
   "cell_type": "code",
   "execution_count": 57,
   "id": "27586b60-dd26-4f64-848c-cadac2d1fc81",
   "metadata": {},
   "outputs": [
    {
     "name": "stdin",
     "output_type": "stream",
     "text": [
      "Enter the first number:  87.987\n",
      "Enter the second number:  86.123\n"
     ]
    },
    {
     "name": "stdout",
     "output_type": "stream",
     "text": [
      "Not close\n"
     ]
    }
   ],
   "source": [
    "number1 = eval(input(\"Enter the first number: \"))\n",
    "number2 = eval(input(\"Enter the second number: \"))\n",
    "if abs(number1 - number2) <= 0.001:\n",
    "    print(\"Close\")\n",
    "else:\n",
    "    print(\"Not close\")\n"
   ]
  },
  {
   "cell_type": "code",
   "execution_count": null,
   "id": "58a8cd44-33ba-4f8d-a086-fd86f332e113",
   "metadata": {},
   "outputs": [],
   "source": [
    "#### Problem-8(Use conditional statements)\n",
    "A year is a leap year if it is divisible by 4, except that years divisible by 100 are not leap years unless\n",
    "they are also divisible by 400. Write a program that asks the user for a year and prints out whether\n",
    "it is a leap year or not."
   ]
  },
  {
   "cell_type": "code",
   "execution_count": 65,
   "id": "6ebd3f18-c460-4ca3-b782-33fd96ddf9da",
   "metadata": {},
   "outputs": [
    {
     "name": "stdin",
     "output_type": "stream",
     "text": [
      "enter a year: 2017\n"
     ]
    },
    {
     "name": "stdout",
     "output_type": "stream",
     "text": [
      "2017 is not a leap year\n"
     ]
    }
   ],
   "source": [
    "year=eval(input(\"enter a year:\"))\n",
    "if year%4==0 and year%100!=0 or year%400==0:\n",
    "    print(f\"{year} is leap year\")\n",
    "else:\n",
    "    print(f\"{year} is not a leap year\")"
   ]
  },
  {
   "cell_type": "code",
   "execution_count": null,
   "id": "e10e5028-8a57-4cf3-aa45-41234ad123e4",
   "metadata": {},
   "outputs": [],
   "source": [
    "#### Problem-9(Use conditional statements)\n",
    "Write a program that asks the user to enter a number and prints out all the divisors of that\n",
    "number. [Hint: the % operator is used to tell if a number is divisible by something."
   ]
  },
  {
   "cell_type": "code",
   "execution_count": 82,
   "id": "4f59eb8a-c914-4ea7-89c6-f588f7c890dc",
   "metadata": {},
   "outputs": [
    {
     "name": "stdin",
     "output_type": "stream",
     "text": [
      "enter a number: 90\n"
     ]
    },
    {
     "name": "stdout",
     "output_type": "stream",
     "text": [
      "1 2 3 5 6 9 10 15 18 30 45 90 "
     ]
    }
   ],
   "source": [
    "number=eval(input(\"enter a number:\"))\n",
    "for i in range(1,number+1):\n",
    "    if number%i==0:\n",
    "        print(i,end=' ')"
   ]
  },
  {
   "cell_type": "code",
   "execution_count": null,
   "id": "6624d91a-4a20-4269-b2f4-4c18edbb5349",
   "metadata": {},
   "outputs": [],
   "source": [
    "#### Problem-10(Use conditional statements)\n",
    "Write a program that asks the user for an hour between 1 and 12, asks them to\n",
    "enter am or pm, and asks them how many hours into the future they want to go.\n",
    "Print out what the hour will be that many hours into the future, printing am or pm as\n",
    "appropriate. An example is shown below.\n",
    "Enter hour: 8\n",
    "am (1) or pm (2)? 1\n",
    "How many hours ahead? 5\n",
    "New hour: 1 pm"
   ]
  },
  {
   "cell_type": "code",
   "execution_count": 93,
   "id": "c5648177-ae87-42f4-865e-31c6a0c708fc",
   "metadata": {},
   "outputs": [
    {
     "name": "stdin",
     "output_type": "stream",
     "text": [
      "enter an hour between 1 and 12: 10\n",
      "enter 1 for am or 2 for pm: 2\n",
      "enter how many hours they want to go in future: 12\n"
     ]
    },
    {
     "name": "stdout",
     "output_type": "stream",
     "text": [
      "new hour is 1 am\n"
     ]
    }
   ],
   "source": [
    "hour=eval(input(\"enter an hour between 1 and 12:\"))\n",
    "ampm=eval(input(\"enter 1 for am or 2 for pm:\"))\n",
    "hours_ahead=eval(input(\"enter how many hours they want to go in future:\"))\n",
    "new_hour=(hour+hours_ahead)%12\n",
    "if (hour + hours_ahead) > 12:\n",
    "    new_hour = 3 - ampm\n",
    "if new_hour==1:\n",
    "    print(f\"new hour is {new_hour} am\")\n",
    "else:\n",
    "    print(f\"new hour is {new_hour} pm\")"
   ]
  },
  {
   "cell_type": "code",
   "execution_count": null,
   "id": "ce670202-5670-4058-b8af-11da91ce0135",
   "metadata": {},
   "outputs": [],
   "source": []
  }
 ],
 "metadata": {
  "kernelspec": {
   "display_name": "Python 3 (ipykernel)",
   "language": "python",
   "name": "python3"
  },
  "language_info": {
   "codemirror_mode": {
    "name": "ipython",
    "version": 3
   },
   "file_extension": ".py",
   "mimetype": "text/x-python",
   "name": "python",
   "nbconvert_exporter": "python",
   "pygments_lexer": "ipython3",
   "version": "3.11.7"
  }
 },
 "nbformat": 4,
 "nbformat_minor": 5
}
